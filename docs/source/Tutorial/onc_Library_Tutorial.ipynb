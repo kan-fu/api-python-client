{
 "cells": [
  {
   "cell_type": "markdown",
   "metadata": {},
   "source": [
    "# onc library tutorial"
   ]
  },
  {
   "cell_type": "markdown",
   "metadata": {},
   "source": [
    "The _onc_ library is developed based upon the _requests_ library, which is a popular library to make the HTTP requests in python. In fact you can use _requests_ alone to interact with the Oceans 3.0 API. But there are cases when you will find the _onc_ library very handy (boolean parse, one-click data product download, automatically download all pages, etc.). The tutorial will demonstrate both versions."
   ]
  },
  {
   "cell_type": "code",
   "execution_count": null,
   "metadata": {
    "scrolled": true,
    "slideshow": {
     "slide_type": "subslide"
    }
   },
   "outputs": [],
   "source": [
    "# Install some libraries\n",
    "\n",
    "# 1. onc: this is an onc library tutorial, right?\n",
    "# 2. request: an alternative (vanilla) way to interact with Oceans 3.0 API.\n",
    "# 3. pandas: because it's useful and fun!\n",
    "# 4. python-dotenv: a handy library to hide the token outside the notebook.\n",
    "\n",
    "import sys\n",
    "\n",
    "!{sys.executable} -m pip install --upgrade requests pandas python-dotenv onc"
   ]
  },
  {
   "cell_type": "code",
   "execution_count": null,
   "metadata": {},
   "outputs": [],
   "source": [
    "# Get the token from your Oceans 3.0 profile page\n",
    "# Put \"TOKEN=[YOUR_TOKEN]\" in a .env file.\n",
    "\n",
    "from dotenv import load_dotenv\n",
    "import os\n",
    "\n",
    "load_dotenv(override=True)\n",
    "token = os.getenv(\"TOKEN\", \"\")  # You can also replace the empty string (second argument) with your token."
   ]
  },
  {
   "cell_type": "code",
   "execution_count": null,
   "metadata": {
    "slideshow": {
     "slide_type": "subslide"
    }
   },
   "outputs": [],
   "source": [
    "import requests\n",
    "import pandas as pd\n",
    "from onc import ONC\n",
    "\n",
    "onc = ONC(token)\n",
    "\n",
    "# For not overflowing the max-width of sphinx-rtd-theme\n",
    "pd.set_option(\"display.max_colwidth\", 30)\n",
    "pd.set_option(\"display.max_columns\", 5)\n",
    "pd.set_option(\"display.max_rows\", 5)"
   ]
  },
  {
   "cell_type": "markdown",
   "metadata": {
    "slideshow": {
     "slide_type": "slide"
    }
   },
   "source": [
    "## 1. Searching with discovery methods\n",
    "\n",
    "To download ONC data, you need to specify the type of data you require and where in particular (i.e. location, device) it originates from.\n",
    "\n",
    "In the Oceans 3.0 API, there's a unique code that identifies every location, device, property, data product type, etc. You include these codes in a group of filters that determine the data you're interested in.\n",
    "\n",
    "Discovery methods allow you to explore the hierarchy of the ONC database to obtain the codes for your filters (they work like a \"search\" function).\n",
    "\n",
    "The example below uses the _getLocations_ method to search for locations that include _\"Bullseye\"_ in their name (i.e. _\"Clayoquot Slope Bullseye Vent\"_). It prints a list with a location that matches the search filters provided."
   ]
  },
  {
   "cell_type": "code",
   "execution_count": null,
   "metadata": {},
   "outputs": [],
   "source": [
    "##### onc #####\n",
    "\n",
    "# 1. Define your filter parameter\n",
    "params = {\n",
    "    \"locationName\": \"Bullseye\",\n",
    "}\n",
    "\n",
    "# 2. Call methods in the onc library\n",
    "onc.getLocations(params)\n"
   ]
  },
  {
   "cell_type": "code",
   "execution_count": null,
   "metadata": {
    "slideshow": {
     "slide_type": "subslide"
    }
   },
   "outputs": [],
   "source": [
    "##### requests #####\n",
    "\n",
    "# 1. Define your filter parameter\n",
    "params_requests = {\n",
    "    \"method\": \"get\",\n",
    "    \"locationName\": \"Bullseye\",\n",
    "    \"token\": token,\n",
    "}\n",
    "\n",
    "# 2. Define your base url for this query\n",
    "url = \"http://data.oceannetworks.ca/api/locations\"\n",
    "\n",
    "# 3. Run your request\n",
    "r = requests.get(url, params=params_requests)\n",
    "\n",
    "# 4. Parse the json file\n",
    "r.json()\n"
   ]
  },
  {
   "cell_type": "markdown",
   "metadata": {
    "slideshow": {
     "slide_type": "subslide"
    }
   },
   "source": [
    "You can see how many deployments the location Bullseye at Clayoquot Slope has until present date. The column _locationCode_ contains the string \"NC89\", which is needed for the next steps.\n"
   ]
  },
  {
   "cell_type": "markdown",
   "metadata": {
    "slideshow": {
     "slide_type": "slide"
    }
   },
   "source": [
    "### What _device categories_ are available here at NC89?"
   ]
  },
  {
   "cell_type": "code",
   "execution_count": null,
   "metadata": {},
   "outputs": [],
   "source": [
    "##### onc #####\n",
    "\n",
    "# 1. Define your filter parameter\n",
    "params = {\n",
    "    \"locationCode\": \"NC89\",\n",
    "}\n",
    "\n",
    "# 2. Call methods in the onc library\n",
    "result = onc.getDeviceCategories(params)\n",
    "\n",
    "# 3. Read it into a DataFrame\n",
    "pd.DataFrame(result)"
   ]
  },
  {
   "cell_type": "code",
   "execution_count": null,
   "metadata": {},
   "outputs": [],
   "source": [
    "##### requests #####\n",
    "\n",
    "# 1. Define your filter parameter\n",
    "params_requests = {\n",
    "    \"method\": \"get\",\n",
    "    \"locationCode\": \"NC89\",\n",
    "    \"token\": token,\n",
    "}\n",
    "\n",
    "# 2. Define your base url for this query\n",
    "url = \"http://data.oceannetworks.ca/api/deviceCategories\"\n",
    "\n",
    "# 3. Run your request\n",
    "r = requests.get(url, params=params_requests)\n",
    "\n",
    "# 4. Read it into a DataFrame\n",
    "pd.DataFrame(r.json())\n"
   ]
  },
  {
   "cell_type": "markdown",
   "metadata": {
    "slideshow": {
     "slide_type": "slide"
    }
   },
   "source": [
    "### What properties are available for the _CTD category_ at this location (NC89)?"
   ]
  },
  {
   "cell_type": "code",
   "execution_count": null,
   "metadata": {},
   "outputs": [],
   "source": [
    "##### onc #####\n",
    "\n",
    "# 1. Define your filter parameter\n",
    "params = {\n",
    "    \"locationCode\": \"NC89\",\n",
    "    \"deviceCategoryCode\": \"CTD\",\n",
    "}\n",
    "\n",
    "# 2. Call methods in the onc library\n",
    "r = onc.getProperties(params)\n",
    "\n",
    "# 3. Read it into a DataFrame\n",
    "pd.DataFrame(r)"
   ]
  },
  {
   "cell_type": "code",
   "execution_count": null,
   "metadata": {},
   "outputs": [],
   "source": [
    "##### requests #####\n",
    "\n",
    "# 1. Define your filter parameter\n",
    "params_requests = {\n",
    "    \"method\": \"get\",\n",
    "    \"locationCode\": \"NC89\",\n",
    "    \"deviceCategoryCode\": \"CTD\",\n",
    "    \"token\": token,\n",
    "}\n",
    "\n",
    "# 2. Define your base url for this query\n",
    "url = \"http://data.oceannetworks.ca/api/properties\"\n",
    "\n",
    "# 3. Run your request\n",
    "r = requests.get(url, params=params_requests)\n",
    "\n",
    "# 4. Read it into a DataFrame\n",
    "pd.DataFrame(r.json())"
   ]
  },
  {
   "cell_type": "markdown",
   "metadata": {
    "slideshow": {
     "slide_type": "slide"
    }
   },
   "source": [
    "### What _data product types_ are available for the CTD category at this location?"
   ]
  },
  {
   "cell_type": "code",
   "execution_count": null,
   "metadata": {},
   "outputs": [],
   "source": [
    "##### onc #####\n",
    "\n",
    "# 1. Define your filter parameter\n",
    "params = {\n",
    "    \"locationCode\": \"NC89\",\n",
    "    \"deviceCategoryCode\": \"CTD\",\n",
    "}\n",
    "\n",
    "# 2. Call methods in the onc library\n",
    "r = onc.getDataProducts(params)\n",
    "\n",
    "# 3. Read it into a DataFrame\n",
    "pd.DataFrame(r)"
   ]
  },
  {
   "cell_type": "code",
   "execution_count": null,
   "metadata": {},
   "outputs": [],
   "source": [
    "##### requests #####\n",
    "\n",
    "# 1. Define your filter parameter\n",
    "params_requests = {\n",
    "    \"method\": \"get\",\n",
    "    \"locationCode\": \"NC89\",\n",
    "    \"deviceCategoryCode\": \"CTD\",\n",
    "    \"token\": token,\n",
    "}\n",
    "\n",
    "# 2. Define your base url for this query\n",
    "url = \"http://data.oceannetworks.ca/api/dataProducts\"\n",
    "\n",
    "# 3. Run your request\n",
    "r = requests.get(url, params=params_requests)\n",
    "\n",
    "# 4. Read it into a DataFrame\n",
    "pd.DataFrame(r.json())"
   ]
  },
  {
   "cell_type": "markdown",
   "metadata": {
    "slideshow": {
     "slide_type": "slide"
    }
   },
   "source": [
    "## 2. Downloading data products\n",
    "\n",
    "Another method is to request the ONC servers to generate a **data product** the same way as in our **Oceans 3.0 Data Search**. This is done through the data product download methods.\n",
    "\n",
    "::: {Note}\n",
    "This will require three steps before you will be able to see the downloaded data product on your computer: \n",
    "1. Request the data.\n",
    "2. Run the Request.\n",
    "3. Download the Data.\n",
    ":::\n",
    "\n",
    "The following example downloads two PNG files with plots for 30 minutes of data from a CTD (find them in the **\"output\"** folder of your jupyter main page):\n"
   ]
  },
  {
   "cell_type": "code",
   "execution_count": null,
   "metadata": {},
   "outputs": [],
   "source": [
    "##### onc #####\n",
    "\n",
    "# 1. Define your filter parameter\n",
    "params = {\n",
    "    \"locationCode\": \"NC89\",\n",
    "    \"deviceCategoryCode\": \"CTD\",\n",
    "    \"dataProductCode\": \"TSSP\",\n",
    "    \"extension\": \"png\",\n",
    "    \"dateFrom\": \"2017-01-19T00:00:00.000Z\",\n",
    "    \"dateTo\": \"2017-01-19T00:30:00.000Z\",\n",
    "    \"dpo_qualityControl\": \"1\",\n",
    "    \"dpo_resample\": \"none\",\n",
    "}\n",
    "\n",
    "# 2. Call methods in the onc library\n",
    "onc.orderDataProduct(params)"
   ]
  },
  {
   "cell_type": "code",
   "execution_count": null,
   "metadata": {},
   "outputs": [],
   "source": [
    "##### requests #####\n",
    "\n",
    "# 1. Request the data\n",
    "\n",
    "# Define your base url for this query\n",
    "url = \"https://data.oceannetworks.ca/api/dataProductDelivery\"\n",
    "\n",
    "# Define your filter parameter\n",
    "params_requests = {\n",
    "    \"method\": \"request\",\n",
    "    \"locationCode\": \"NC89\",\n",
    "    \"deviceCategoryCode\": \"CTD\",\n",
    "    \"dataProductCode\": \"TSSP\",\n",
    "    \"extension\": \"png\",\n",
    "    \"dateFrom\": \"2017-01-19T00:00:00.000Z\",\n",
    "    \"dateTo\": \"2017-01-19T00:30:00.000Z\",\n",
    "    \"dpo_qualityControl\": \"1\",\n",
    "    \"dpo_resample\": \"none\",\n",
    "    \"token\": token,\n",
    "}\n",
    "\n",
    "request = requests.get(url, params=params_requests)\n",
    "request.json()"
   ]
  },
  {
   "cell_type": "code",
   "execution_count": null,
   "metadata": {},
   "outputs": [],
   "source": [
    "# 2. Run the request\n",
    "\n",
    "# Note: you have to execute this cell multiple times until the return shows \"status\":\"complete\"\n",
    "# Note: Depending on your request, you can have more than one file ('fileCount').\n",
    "#       You will need to individually download these use the index parameter.\n",
    "\n",
    "requestID = request.json()[\"dpRequestId\"]\n",
    "\n",
    "params_requests = {\n",
    "    \"method\": \"run\",\n",
    "    \"dpRequestId\": requestID,\n",
    "    \"token\": token,\n",
    "}\n",
    "\n",
    "r = requests.get(url, params_requests)\n",
    "r.json()"
   ]
  },
  {
   "cell_type": "code",
   "execution_count": null,
   "metadata": {},
   "outputs": [],
   "source": [
    "# Find the RunID for the next step\n",
    "RunId = r.json()[0][\"dpRunId\"]\n",
    "RunId"
   ]
  },
  {
   "cell_type": "code",
   "execution_count": null,
   "metadata": {},
   "outputs": [],
   "source": [
    "# 3. Download the data \n",
    "params_requests = {\"method\": \"download\", \"dpRunId\": RunId, \"token\": token, \"index\": \"1\"}\n",
    "\n",
    "r = requests.get(url, params_requests)\n",
    "r  # You can save r.content as a png file after the response code is 200.\n"
   ]
  },
  {
   "cell_type": "markdown",
   "metadata": {},
   "source": [
    "::: {admonition} Another option to get the data\n",
    ":class: tip\n",
    "\n",
    "Obtain your downloads from your user ftp directory (More -> User Directory) in Oceans 3.0. \n",
    "Navigate to the folder that contains the runId: You will see the files in this folder.\n",
    "\n",
    "![UserDirectory.png](../_static/onc_Library_Tutorial/UserDirectory.png)\n",
    ":::"
   ]
  },
  {
   "cell_type": "markdown",
   "metadata": {
    "slideshow": {
     "slide_type": "slide"
    }
   },
   "source": [
    "## 3. Obtaining sensor readings in (near) real-time\n",
    "\n",
    "Once you determine the exact filters that identify the data you are interested in, there are 3 different methods available to download it.\n",
    "\n",
    "One method allows you to  **directly download time-series** of scalar data sensor readings for a given timeframe.\n",
    "\n",
    "In the following example, we obtain 5 seconds of conductivity readings from the CTD.\n"
   ]
  },
  {
   "cell_type": "code",
   "execution_count": null,
   "metadata": {},
   "outputs": [],
   "source": [
    "##### onc #####\n",
    "\n",
    "# 1. Define your filter parameter\n",
    "params = {\n",
    "    \"locationCode\": \"NC89\",\n",
    "    \"deviceCategoryCode\": \"CTD\",\n",
    "    \"dateFrom\": \"2020-06-20T00:00:00.000Z\",\n",
    "    \"propertyCode\": \"pressure\",\n",
    "    \"dateTo\": \"2020-06-20T00:00:10.000Z\",\n",
    "}\n",
    "\n",
    "# 2. Call methods in the onc library\n",
    "r = onc.getDirectByLocation(params)\n",
    "\n",
    "# 3. Read it into a DataFrame\n",
    "pressure = pd.DataFrame(r[\"sensorData\"][0][\"data\"])\n",
    "pressure"
   ]
  },
  {
   "cell_type": "code",
   "execution_count": null,
   "metadata": {
    "slideshow": {
     "slide_type": "slide"
    }
   },
   "outputs": [],
   "source": [
    "##### requests #####\n",
    "\n",
    "# 1. Define your filter parameter to obtain scalar data for 10 seconds\n",
    "params_requests = {\n",
    "    \"method\": \"getByLocation\",\n",
    "    \"locationCode\": \"NC89\",\n",
    "    \"deviceCategoryCode\": \"CTD\",\n",
    "    \"dateFrom\": \"2020-06-20T00:00:00.000Z\",\n",
    "    \"propertyCode\": \"pressure\",\n",
    "    \"dateTo\": \"2020-06-20T00:00:10.000Z\",\n",
    "    \"token\": token,\n",
    "}\n",
    "\n",
    "# 2. Define your base url for this query\n",
    "url = \"https://data.oceannetworks.ca/api/scalardata\"\n",
    "\n",
    "# 3. Run your request\n",
    "r = requests.get(url, params_requests)\n",
    "\n",
    "# 4. Read it into a DataFrame\n",
    "pressure = pd.DataFrame(r.json()[\"sensorData\"][0][\"data\"])\n",
    "pressure"
   ]
  },
  {
   "cell_type": "markdown",
   "metadata": {
    "slideshow": {
     "slide_type": "slide"
    }
   },
   "source": [
    "The result includes matching lists of \"values\" and \"sampleTimes\". We also use the **property code** \"pressure\" to limit results to a specific property available in this CTD.\n",
    "\n",
    "::: {Admonition} Quiz\n",
    ":class: tip\n",
    "\n",
    "Where did we get this property from?\n",
    ":::\n",
    "\n",
    "Note that we can also get the **raw readings directly** from the device, using the method\n",
    "**getDirectRawByLocation()**\n"
   ]
  },
  {
   "cell_type": "code",
   "execution_count": null,
   "metadata": {},
   "outputs": [],
   "source": [
    "##### onc #####\n",
    "\n",
    "# 1. Define your filter parameter\n",
    "params = {\n",
    "    \"locationCode\": \"NC89\",\n",
    "    \"deviceCategoryCode\": \"CTD\",\n",
    "    \"dateFrom\": \"2020-06-20T00:00:00.000Z\",\n",
    "    \"dateTo\": \"2020-06-20T00:00:10.000Z\",\n",
    "}\n",
    "\n",
    "# 2. Call methods in the onc library\n",
    "r = onc.getDirectRawByLocation(params)\n",
    "\n",
    "# 3. Read it into a DataFrame\n",
    "pd.DataFrame(r[\"data\"])"
   ]
  },
  {
   "cell_type": "code",
   "execution_count": null,
   "metadata": {},
   "outputs": [],
   "source": [
    "##### requests #####\n",
    "\n",
    "# 1. Define your filter parameter\n",
    "params_requests = {\n",
    "    \"method\": \"getByLocation\",\n",
    "    \"locationCode\": \"NC89\",\n",
    "    \"deviceCategoryCode\": \"CTD\",\n",
    "    \"dateFrom\": \"2020-06-20T00:00:00.000Z\",\n",
    "    \"dateTo\": \"2020-06-20T00:00:10.000Z\",\n",
    "    \"token\": token,\n",
    "}\n",
    "\n",
    "# 2. Define your base url for this query\n",
    "url = \"http://data.oceannetworks.ca/api/rawdata\"\n",
    "\n",
    "# 3. Run your request\n",
    "r = requests.get(url, params_requests)\n",
    "\n",
    "# 4. Read it into a DataFrame\n",
    "pd.DataFrame(r.json()[\"data\"])"
   ]
  },
  {
   "cell_type": "markdown",
   "metadata": {},
   "source": [
    "## 4. Downloading more data\n",
    "\n",
    "::: {Admonition} Pagination of response due to too many data\n",
    ":class: note\n",
    "\n",
    "If the rows of the data is above 100,000, not all the data will be returned. The rest of the data can be queried based on the _next_ key in the response.\n",
    "\n",
    "1. If you use onc.\n",
    "\n",
    "`getDirectRawByLocation` supports a boolean `allPages` parameter. When set to `True`, it will try to retrieve all the pages. \n",
    "\n",
    "2. If you use requests.\n",
    "\n",
    "You have to manually query the next pages until the _next_ key is None and concatenate all the data together.\n",
    "\n",
    ":::\n"
   ]
  },
  {
   "cell_type": "code",
   "execution_count": null,
   "metadata": {},
   "outputs": [],
   "source": [
    "##### onc #####\n",
    "\n",
    "# 1. Define your filter parameter with a longer date range\n",
    "params_longer_range = {\n",
    "    #   'method':'getByLocation',\n",
    "    \"locationCode\": \"NC89\",\n",
    "    \"deviceCategoryCode\": \"CTD\",\n",
    "    \"dateFrom\": \"2020-06-20T00:00:00.000Z\",\n",
    "    \"dateTo\": \"2020-06-21T20:00:00.000Z\",\n",
    "}\n",
    "\n",
    "# 2. Call methods in the onc library\n",
    "r = onc.getDirectRawByLocation(params_longer_range, allPages=True)\n",
    "\n",
    "# 3. Read it into a DataFrame\n",
    "pd.DataFrame(r[\"data\"])"
   ]
  },
  {
   "cell_type": "code",
   "execution_count": null,
   "metadata": {},
   "outputs": [],
   "source": [
    "##### requests #####\n",
    "\n",
    "# 1. Define your filter parameter with a longer date range\n",
    "params_requests_longer_range = {\n",
    "    \"method\": \"getByLocation\",\n",
    "    \"locationCode\": \"NC89\",\n",
    "    \"deviceCategoryCode\": \"CTD\",\n",
    "    \"dateFrom\": \"2020-06-20T00:00:00.000Z\",\n",
    "    \"dateTo\": \"2020-06-21T20:00:00.000Z\",\n",
    "    \"token\": token,\n",
    "}\n",
    "\n",
    "# 2. Run your request (the url is still the same)\n",
    "r = requests.get(url, params_requests_longer_range)\n",
    "pd.DataFrame(r.json()[\"data\"])\n"
   ]
  },
  {
   "cell_type": "code",
   "execution_count": null,
   "metadata": {},
   "outputs": [],
   "source": [
    "r.json()[\"next\"]"
   ]
  },
  {
   "cell_type": "code",
   "execution_count": null,
   "metadata": {},
   "outputs": [],
   "source": [
    "# Update the dateFrom parameter to get the next page\n",
    "params_requests_longer_range[\"dateFrom\"] = r.json()[\"next\"][\"parameters\"][\"dateFrom\"]\n",
    "r = requests.get(url, params_requests_longer_range)\n",
    "pd.DataFrame(r.json()[\"data\"])"
   ]
  },
  {
   "cell_type": "code",
   "execution_count": null,
   "metadata": {},
   "outputs": [],
   "source": [
    "print(r.json()[\"next\"])"
   ]
  },
  {
   "cell_type": "markdown",
   "metadata": {
    "slideshow": {
     "slide_type": "subslide"
    }
   },
   "source": [
    "The filters above include codes for **location**, **deviceCategory** and **dataProduct**, as well as the file **extension** and a time interval. They also include a couple of filters to configure this specific data product type (starting with the **\"dpo_\"** prefix) which can be obtained from the [Data Product Options documentation](https://wiki.oceannetworks.ca/display/O2A/Available+Data+Products). You can download more than 120 different types of data products including audio & video.\n"
   ]
  },
  {
   "cell_type": "markdown",
   "metadata": {
    "slideshow": {
     "slide_type": "slide"
    }
   },
   "source": [
    "## 5. Downloading archived files\n",
    "\n",
    "A faster way to download data products (if it suits your need) is to leverage how ONC scripts auto-generate and archive data products of different types at set time intervals. You can directly download these data product files from our files archive, as long as you know their unique filename.\n",
    "\n",
    "In the following example, we get the list of archived files available for a camera at Ridley Island (in a certain time range)."
   ]
  },
  {
   "cell_type": "code",
   "execution_count": null,
   "metadata": {},
   "outputs": [],
   "source": [
    "##### onc #####\n",
    "\n",
    "# 1. Define your filter parameter\n",
    "params = {\n",
    "    \"locationCode\": \"RISS\",\n",
    "    \"deviceCategoryCode\": \"VIDEOCAM\",\n",
    "    \"dateFrom\": \"2016-12-01T00:00:00.000Z\",\n",
    "    \"dateTo\": \"2016-12-01T00:05:00.000Z\",\n",
    "}\n",
    "\n",
    "# 2. Call methods in the onc library\n",
    "r = onc.getListByLocation(params)\n",
    "r[\"files\"]"
   ]
  },
  {
   "cell_type": "code",
   "execution_count": null,
   "metadata": {
    "slideshow": {
     "slide_type": "subslide"
    }
   },
   "outputs": [],
   "source": [
    "##### requests #####\n",
    "\n",
    "# 1. Define your filter parameter\n",
    "params_requests = {\n",
    "    \"method\": \"getListByLocation\",\n",
    "    \"locationCode\": \"RISS\",\n",
    "    \"deviceCategoryCode\": \"VIDEOCAM\",\n",
    "    \"dateFrom\": \"2016-12-01T00:00:00.000Z\",\n",
    "    \"dateTo\": \"2016-12-01T00:05:00.000Z\",\n",
    "    \"token\": token,\n",
    "}\n",
    "\n",
    "# 2. Define your base url for this query\n",
    "url = \"https://data.oceannetworks.ca/api/archivefiles\"\n",
    "\n",
    "# 3. Run your request\n",
    "r = requests.get(url, params_requests)\n",
    "r.json()[\"files\"]\n"
   ]
  },
  {
   "cell_type": "markdown",
   "metadata": {
    "slideshow": {
     "slide_type": "subslide"
    }
   },
   "source": [
    "Once we have the file name, you can use the method **\"getFile()\"** to download individual files:\n"
   ]
  },
  {
   "cell_type": "code",
   "execution_count": null,
   "metadata": {},
   "outputs": [],
   "source": [
    "##### onc #####\n",
    "\n",
    "# 1. Call methods in the onc library with the filename. The file is downloaded in the output folder.\n",
    "onc.getFile(\"AXISQ6044PTZACCC8E334C53_20161201T000001.000Z.jpg\")"
   ]
  },
  {
   "cell_type": "code",
   "execution_count": null,
   "metadata": {
    "slideshow": {
     "slide_type": "subslide"
    }
   },
   "outputs": [],
   "source": [
    "##### requests #####\n",
    "\n",
    "# 1. Define your filter parameter with the filename\n",
    "params = {\n",
    "    \"method\": \"getFile\",\n",
    "    \"filename\": \"AXISQ6044PTZACCC8E334C53_20161201T000001.000Z.jpg\",\n",
    "    \"token\": token,\n",
    "}\n",
    "\n",
    "# 2. Run your request (the url is still the same)\n",
    "r = requests.get(url, params) \n",
    "\n",
    "# 3. Save the file\n",
    "# with open(params['filename'], 'wb') as f:\n",
    "#     f.write(r.content)"
   ]
  }
 ],
 "metadata": {
  "kernelspec": {
   "display_name": "Python 3 (ipykernel)",
   "language": "python",
   "name": "python3"
  },
  "language_info": {
   "codemirror_mode": {
    "name": "ipython",
    "version": 3
   },
   "file_extension": ".py",
   "mimetype": "text/x-python",
   "name": "python",
   "nbconvert_exporter": "python",
   "pygments_lexer": "ipython3",
   "version": "3.10.6"
  }
 },
 "nbformat": 4,
 "nbformat_minor": 2
}
